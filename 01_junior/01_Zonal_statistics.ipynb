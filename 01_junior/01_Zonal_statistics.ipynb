{
  "cells": [
    {
      "cell_type": "markdown",
      "metadata": {
        "id": "view-in-github",
        "colab_type": "text"
      },
      "source": [
        "<a href=\"https://colab.research.google.com/github/raulpoppiel/geemap/blob/master/01_junior/01_Zonal_statistics.ipynb\" target=\"_parent\"><img src=\"https://colab.research.google.com/assets/colab-badge.svg\" alt=\"Open In Colab\"/></a>"
      ]
    },
    {
      "cell_type": "markdown",
      "metadata": {
        "id": "Hi3EsbwqCqc8"
      },
      "source": [
        "<center><img src=\"https://media.licdn.com/dms/image/D4D0BAQHwOVv97dZgRA/company-logo_200_200/0/1694021955341/neutral_farming_logo?e=1715212800&v=beta&t=dku1R4nBzkf1VXEv_yofHmfrzOMDKEPXQ24w7EfLUY8\" height=\"150\"></center>"
      ]
    },
    {
      "cell_type": "markdown",
      "metadata": {
        "id": "UXpQtinSU1s_"
      },
      "source": [
        "# \"Compute zonal statistics by polygon\""
      ]
    },
    {
      "cell_type": "markdown",
      "metadata": {
        "id": "AXbcpCGlU1tA"
      },
      "source": [
        "_Tool created by **Raul Roberto Poppiel**_: [raul@neutralfarming.earth](raul@neutralfarming.earth)\n",
        "\n",
        "This tool computes statistical values (e.g., mean) within each geometry polygon from rasters (e.g., soil maps) using Google Earth Engine (GEE)"
      ]
    },
    {
      "cell_type": "markdown",
      "metadata": {
        "id": "8GXF1nImU1tA"
      },
      "source": [
        "General workflow:\n",
        "1. Import region of interest (shp, polygons) from GEE\n",
        "2. Import soil maps from GEE\n",
        "3. Compute zonal statistics from maps\n",
        "4. Plot results\n",
        "\n",
        "GEE Code Editor: https://code.earthengine.google.com/"
      ]
    },
    {
      "cell_type": "markdown",
      "metadata": {
        "id": "CD7h0hbi92Er"
      },
      "source": [
        "## Install and import modules"
      ]
    },
    {
      "cell_type": "markdown",
      "metadata": {
        "id": "OVpAhIi8UEpw"
      },
      "source": [
        "Import the required modules"
      ]
    },
    {
      "cell_type": "code",
      "execution_count": null,
      "metadata": {
        "id": "H0C9S_Hh92Et"
      },
      "outputs": [],
      "source": [
        "# Load modules\n",
        "import os\n",
        "import ee, geemap\n",
        "import pandas as pd\n",
        "import geopandas as gpd\n",
        "import numpy as np\n",
        "import seaborn as sns\n",
        "from matplotlib import pyplot as plt\n",
        "import time\n",
        "from pathlib import Path\n",
        "from datetime import datetime"
      ]
    },
    {
      "cell_type": "markdown",
      "metadata": {
        "id": "k1sdX2p592Eu"
      },
      "source": [
        "Authenticate and Initialize Earth Engine and geemap."
      ]
    },
    {
      "cell_type": "code",
      "execution_count": null,
      "metadata": {
        "colab": {
          "base_uri": "https://localhost:8080/",
          "height": 476
        },
        "id": "qKDe0cZEIV_l",
        "outputId": "620d058b-87ce-4d47-85f5-fbf7b55cb0a2"
      },
      "outputs": [
        {
          "output_type": "display_data",
          "data": {
            "text/plain": [
              "<IPython.core.display.HTML object>"
            ],
            "text/html": [
              "\n",
              "            <style>\n",
              "                .geemap-dark {\n",
              "                    --jp-widgets-color: white;\n",
              "                    --jp-widgets-label-color: white;\n",
              "                    --jp-ui-font-color1: white;\n",
              "                    --jp-layout-color2: #454545;\n",
              "                    background-color: #383838;\n",
              "                }\n",
              "\n",
              "                .geemap-dark .jupyter-button {\n",
              "                    --jp-layout-color3: #383838;\n",
              "                }\n",
              "\n",
              "                .geemap-colab {\n",
              "                    background-color: var(--colab-primary-surface-color, white);\n",
              "                }\n",
              "\n",
              "                .geemap-colab .jupyter-button {\n",
              "                    --jp-layout-color3: var(--colab-primary-surface-color, white);\n",
              "                }\n",
              "            </style>\n",
              "            "
            ]
          },
          "metadata": {}
        },
        {
          "output_type": "stream",
          "name": "stdout",
          "text": [
            "To authorize access needed by Earth Engine, open the following URL in a web browser and follow the instructions. If the web browser does not start automatically, please manually browse the URL below.\n",
            "\n",
            "    https://code.earthengine.google.com/client-auth?scopes=https%3A//www.googleapis.com/auth/earthengine%20https%3A//www.googleapis.com/auth/cloud-platform%20https%3A//www.googleapis.com/auth/devstorage.full_control&request_id=7NFSKNkiohi9IsJVuOJKhkVSdA3uFnzs3ZR0d6VKrQU&tc=hVwzktk7vXvNakTkb7TYlm8LrMX8r5HaVbrllvbT-Yo&cc=VpumabQ4txncIJAuWvCO41nfrS7wg3vRe1sKHUiL4zs\n",
            "\n",
            "The authorization workflow will generate a code, which you should paste in the box below.\n"
          ]
        },
        {
          "output_type": "error",
          "ename": "KeyboardInterrupt",
          "evalue": "Interrupted by user",
          "traceback": [
            "\u001b[0;31m---------------------------------------------------------------------------\u001b[0m",
            "\u001b[0;31mKeyboardInterrupt\u001b[0m                         Traceback (most recent call last)",
            "\u001b[0;32m<ipython-input-2-b39f8182294f>\u001b[0m in \u001b[0;36m<cell line: 2>\u001b[0;34m()\u001b[0m\n\u001b[1;32m      1\u001b[0m \u001b[0;31m# Run and then paste the GEE token\u001b[0m\u001b[0;34m\u001b[0m\u001b[0;34m\u001b[0m\u001b[0m\n\u001b[0;32m----> 2\u001b[0;31m \u001b[0mgeemap\u001b[0m\u001b[0;34m.\u001b[0m\u001b[0mee_initialize\u001b[0m\u001b[0;34m(\u001b[0m\u001b[0mproject\u001b[0m\u001b[0;34m=\u001b[0m\u001b[0;34m'apps-388723'\u001b[0m\u001b[0;34m)\u001b[0m\u001b[0;34m\u001b[0m\u001b[0;34m\u001b[0m\u001b[0m\n\u001b[0m\u001b[1;32m      3\u001b[0m \u001b[0;31m#ee.Authenticate()\u001b[0m\u001b[0;34m\u001b[0m\u001b[0;34m\u001b[0m\u001b[0m\n\u001b[1;32m      4\u001b[0m \u001b[0;31m#ee.Initialize(project='apps-388723')\u001b[0m\u001b[0;34m\u001b[0m\u001b[0;34m\u001b[0m\u001b[0m\n",
            "\u001b[0;32m/usr/local/lib/python3.10/dist-packages/geemap/common.py\u001b[0m in \u001b[0;36mee_initialize\u001b[0;34m(token_name, auth_mode, service_account, auth_args, user_agent_prefix, **kwargs)\u001b[0m\n\u001b[1;32m    135\u001b[0m \u001b[0;34m\u001b[0m\u001b[0m\n\u001b[1;32m    136\u001b[0m             \u001b[0;32mexcept\u001b[0m \u001b[0mException\u001b[0m\u001b[0;34m:\u001b[0m\u001b[0;34m\u001b[0m\u001b[0;34m\u001b[0m\u001b[0m\n\u001b[0;32m--> 137\u001b[0;31m                 \u001b[0mee\u001b[0m\u001b[0;34m.\u001b[0m\u001b[0mAuthenticate\u001b[0m\u001b[0;34m(\u001b[0m\u001b[0;34m**\u001b[0m\u001b[0mauth_args\u001b[0m\u001b[0;34m)\u001b[0m\u001b[0;34m\u001b[0m\u001b[0;34m\u001b[0m\u001b[0m\n\u001b[0m\u001b[1;32m    138\u001b[0m                 \u001b[0mee\u001b[0m\u001b[0;34m.\u001b[0m\u001b[0mInitialize\u001b[0m\u001b[0;34m(\u001b[0m\u001b[0;34m**\u001b[0m\u001b[0mkwargs\u001b[0m\u001b[0;34m)\u001b[0m\u001b[0;34m\u001b[0m\u001b[0;34m\u001b[0m\u001b[0m\n\u001b[1;32m    139\u001b[0m \u001b[0;34m\u001b[0m\u001b[0m\n",
            "\u001b[0;32m/usr/local/lib/python3.10/dist-packages/ee/__init__.py\u001b[0m in \u001b[0;36mAuthenticate\u001b[0;34m(authorization_code, quiet, code_verifier, auth_mode, scopes, force)\u001b[0m\n\u001b[1;32m    122\u001b[0m     \u001b[0;32mTrue\u001b[0m \u001b[0;32mif\u001b[0m \u001b[0mwe\u001b[0m \u001b[0mfound\u001b[0m \u001b[0mvalid\u001b[0m \u001b[0mcredentials\u001b[0m \u001b[0;32mand\u001b[0m \u001b[0mdidn\u001b[0m\u001b[0;31m'\u001b[0m\u001b[0mt\u001b[0m \u001b[0mrun\u001b[0m \u001b[0mthe\u001b[0m \u001b[0mauth\u001b[0m \u001b[0mflow\u001b[0m\u001b[0;34m.\u001b[0m\u001b[0;34m\u001b[0m\u001b[0;34m\u001b[0m\u001b[0m\n\u001b[1;32m    123\u001b[0m   \"\"\"\n\u001b[0;32m--> 124\u001b[0;31m   return oauth.authenticate(authorization_code, quiet, code_verifier, auth_mode,\n\u001b[0m\u001b[1;32m    125\u001b[0m                             scopes, force)\n\u001b[1;32m    126\u001b[0m \u001b[0;34m\u001b[0m\u001b[0m\n",
            "\u001b[0;32m/usr/local/lib/python3.10/dist-packages/ee/oauth.py\u001b[0m in \u001b[0;36mauthenticate\u001b[0;34m(cli_authorization_code, quiet, cli_code_verifier, auth_mode, scopes, force)\u001b[0m\n\u001b[1;32m    510\u001b[0m     \u001b[0m_open_new_browser\u001b[0m\u001b[0;34m(\u001b[0m\u001b[0mflow\u001b[0m\u001b[0;34m.\u001b[0m\u001b[0mauth_url\u001b[0m\u001b[0;34m)\u001b[0m\u001b[0;34m\u001b[0m\u001b[0;34m\u001b[0m\u001b[0m\n\u001b[1;32m    511\u001b[0m \u001b[0;34m\u001b[0m\u001b[0m\n\u001b[0;32m--> 512\u001b[0;31m   \u001b[0mflow\u001b[0m\u001b[0;34m.\u001b[0m\u001b[0msave_code\u001b[0m\u001b[0;34m(\u001b[0m\u001b[0;34m)\u001b[0m\u001b[0;34m\u001b[0m\u001b[0;34m\u001b[0m\u001b[0m\n\u001b[0m\u001b[1;32m    513\u001b[0m \u001b[0;34m\u001b[0m\u001b[0m\n\u001b[1;32m    514\u001b[0m \u001b[0;34m\u001b[0m\u001b[0m\n",
            "\u001b[0;32m/usr/local/lib/python3.10/dist-packages/ee/oauth.py\u001b[0m in \u001b[0;36msave_code\u001b[0;34m(self, code)\u001b[0m\n\u001b[1;32m    560\u001b[0m       \u001b[0mredirect_uri\u001b[0m \u001b[0;34m=\u001b[0m \u001b[0mself\u001b[0m\u001b[0;34m.\u001b[0m\u001b[0mserver\u001b[0m\u001b[0;34m.\u001b[0m\u001b[0murl\u001b[0m\u001b[0;34m\u001b[0m\u001b[0;34m\u001b[0m\u001b[0m\n\u001b[1;32m    561\u001b[0m       \u001b[0mcode\u001b[0m \u001b[0;34m=\u001b[0m \u001b[0mself\u001b[0m\u001b[0;34m.\u001b[0m\u001b[0mserver\u001b[0m\u001b[0;34m.\u001b[0m\u001b[0mfetch_code\u001b[0m\u001b[0;34m(\u001b[0m\u001b[0;34m)\u001b[0m  \u001b[0;31m# Waits for oauth callback\u001b[0m\u001b[0;34m\u001b[0m\u001b[0;34m\u001b[0m\u001b[0m\n\u001b[0;32m--> 562\u001b[0;31m     \u001b[0m_obtain_and_write_token\u001b[0m\u001b[0;34m(\u001b[0m\u001b[0mcode\u001b[0m\u001b[0;34m,\u001b[0m \u001b[0mself\u001b[0m\u001b[0;34m.\u001b[0m\u001b[0mcode_verifier\u001b[0m\u001b[0;34m,\u001b[0m \u001b[0mself\u001b[0m\u001b[0;34m.\u001b[0m\u001b[0mscopes\u001b[0m\u001b[0;34m,\u001b[0m \u001b[0mredirect_uri\u001b[0m\u001b[0;34m)\u001b[0m\u001b[0;34m\u001b[0m\u001b[0;34m\u001b[0m\u001b[0m\n\u001b[0m\u001b[1;32m    563\u001b[0m \u001b[0;34m\u001b[0m\u001b[0m\n\u001b[1;32m    564\u001b[0m   \u001b[0;32mdef\u001b[0m \u001b[0mdisplay_instructions\u001b[0m\u001b[0;34m(\u001b[0m\u001b[0mself\u001b[0m\u001b[0;34m,\u001b[0m \u001b[0mquiet\u001b[0m\u001b[0;34m:\u001b[0m \u001b[0mOptional\u001b[0m\u001b[0;34m[\u001b[0m\u001b[0mbool\u001b[0m\u001b[0;34m]\u001b[0m \u001b[0;34m=\u001b[0m \u001b[0;32mNone\u001b[0m\u001b[0;34m)\u001b[0m \u001b[0;34m->\u001b[0m \u001b[0mbool\u001b[0m\u001b[0;34m:\u001b[0m\u001b[0;34m\u001b[0m\u001b[0;34m\u001b[0m\u001b[0m\n",
            "\u001b[0;32m/usr/local/lib/python3.10/dist-packages/ee/oauth.py\u001b[0m in \u001b[0;36m_obtain_and_write_token\u001b[0;34m(auth_code, code_verifier, scopes, redirect_uri)\u001b[0m\n\u001b[1;32m    227\u001b[0m     \u001b[0mclient_info\u001b[0m\u001b[0;34m[\u001b[0m\u001b[0;34m'redirect_uri'\u001b[0m\u001b[0;34m]\u001b[0m \u001b[0;34m=\u001b[0m \u001b[0mredirect_uri\u001b[0m\u001b[0;34m\u001b[0m\u001b[0;34m\u001b[0m\u001b[0m\n\u001b[1;32m    228\u001b[0m   \u001b[0;32mif\u001b[0m \u001b[0;32mnot\u001b[0m \u001b[0mauth_code\u001b[0m\u001b[0;34m:\u001b[0m\u001b[0;34m\u001b[0m\u001b[0;34m\u001b[0m\u001b[0m\n\u001b[0;32m--> 229\u001b[0;31m     \u001b[0mauth_code\u001b[0m \u001b[0;34m=\u001b[0m \u001b[0minput\u001b[0m\u001b[0;34m(\u001b[0m\u001b[0;34m'Enter verification code: '\u001b[0m\u001b[0;34m)\u001b[0m\u001b[0;34m\u001b[0m\u001b[0;34m\u001b[0m\u001b[0m\n\u001b[0m\u001b[1;32m    230\u001b[0m   \u001b[0;32massert\u001b[0m \u001b[0misinstance\u001b[0m\u001b[0;34m(\u001b[0m\u001b[0mauth_code\u001b[0m\u001b[0;34m,\u001b[0m \u001b[0mstr\u001b[0m\u001b[0;34m)\u001b[0m\u001b[0;34m\u001b[0m\u001b[0;34m\u001b[0m\u001b[0m\n\u001b[1;32m    231\u001b[0m   \u001b[0mscopes\u001b[0m \u001b[0;34m=\u001b[0m \u001b[0mscopes\u001b[0m \u001b[0;32mor\u001b[0m \u001b[0mSCOPES\u001b[0m\u001b[0;34m\u001b[0m\u001b[0;34m\u001b[0m\u001b[0m\n",
            "\u001b[0;32m/usr/local/lib/python3.10/dist-packages/ipykernel/kernelbase.py\u001b[0m in \u001b[0;36mraw_input\u001b[0;34m(self, prompt)\u001b[0m\n\u001b[1;32m    849\u001b[0m                 \u001b[0;34m\"raw_input was called, but this frontend does not support input requests.\"\u001b[0m\u001b[0;34m\u001b[0m\u001b[0;34m\u001b[0m\u001b[0m\n\u001b[1;32m    850\u001b[0m             )\n\u001b[0;32m--> 851\u001b[0;31m         return self._input_request(str(prompt),\n\u001b[0m\u001b[1;32m    852\u001b[0m             \u001b[0mself\u001b[0m\u001b[0;34m.\u001b[0m\u001b[0m_parent_ident\u001b[0m\u001b[0;34m,\u001b[0m\u001b[0;34m\u001b[0m\u001b[0;34m\u001b[0m\u001b[0m\n\u001b[1;32m    853\u001b[0m             \u001b[0mself\u001b[0m\u001b[0;34m.\u001b[0m\u001b[0m_parent_header\u001b[0m\u001b[0;34m,\u001b[0m\u001b[0;34m\u001b[0m\u001b[0;34m\u001b[0m\u001b[0m\n",
            "\u001b[0;32m/usr/local/lib/python3.10/dist-packages/ipykernel/kernelbase.py\u001b[0m in \u001b[0;36m_input_request\u001b[0;34m(self, prompt, ident, parent, password)\u001b[0m\n\u001b[1;32m    893\u001b[0m             \u001b[0;32mexcept\u001b[0m \u001b[0mKeyboardInterrupt\u001b[0m\u001b[0;34m:\u001b[0m\u001b[0;34m\u001b[0m\u001b[0;34m\u001b[0m\u001b[0m\n\u001b[1;32m    894\u001b[0m                 \u001b[0;31m# re-raise KeyboardInterrupt, to truncate traceback\u001b[0m\u001b[0;34m\u001b[0m\u001b[0;34m\u001b[0m\u001b[0m\n\u001b[0;32m--> 895\u001b[0;31m                 \u001b[0;32mraise\u001b[0m \u001b[0mKeyboardInterrupt\u001b[0m\u001b[0;34m(\u001b[0m\u001b[0;34m\"Interrupted by user\"\u001b[0m\u001b[0;34m)\u001b[0m \u001b[0;32mfrom\u001b[0m \u001b[0;32mNone\u001b[0m\u001b[0;34m\u001b[0m\u001b[0;34m\u001b[0m\u001b[0m\n\u001b[0m\u001b[1;32m    896\u001b[0m             \u001b[0;32mexcept\u001b[0m \u001b[0mException\u001b[0m \u001b[0;32mas\u001b[0m \u001b[0me\u001b[0m\u001b[0;34m:\u001b[0m\u001b[0;34m\u001b[0m\u001b[0;34m\u001b[0m\u001b[0m\n\u001b[1;32m    897\u001b[0m                 \u001b[0mself\u001b[0m\u001b[0;34m.\u001b[0m\u001b[0mlog\u001b[0m\u001b[0;34m.\u001b[0m\u001b[0mwarning\u001b[0m\u001b[0;34m(\u001b[0m\u001b[0;34m\"Invalid Message:\"\u001b[0m\u001b[0;34m,\u001b[0m \u001b[0mexc_info\u001b[0m\u001b[0;34m=\u001b[0m\u001b[0;32mTrue\u001b[0m\u001b[0;34m)\u001b[0m\u001b[0;34m\u001b[0m\u001b[0;34m\u001b[0m\u001b[0m\n",
            "\u001b[0;31mKeyboardInterrupt\u001b[0m: Interrupted by user"
          ]
        }
      ],
      "source": [
        "# Run and then paste the GEE token\n",
        "#geemap.ee_initialize(project='apps-388723')\n",
        "ee.Authenticate()\n",
        "ee.Initialize(project='apps-388723')"
      ]
    },
    {
      "cell_type": "markdown",
      "metadata": {
        "id": "cpuGlI5fHrQx"
      },
      "source": [
        "## Set Google Drive"
      ]
    },
    {
      "cell_type": "code",
      "execution_count": null,
      "metadata": {
        "id": "MtXPEvAonugm"
      },
      "outputs": [],
      "source": [
        "# Connect to Google Drive\n",
        "from google.colab import drive\n",
        "drive.mount('/content/drive')"
      ]
    },
    {
      "cell_type": "markdown",
      "source": [
        "## Authenticate Google Cloud Platform"
      ],
      "metadata": {
        "id": "LrAH431n3ix1"
      }
    },
    {
      "cell_type": "code",
      "source": [
        "import io\n",
        "import google.cloud.storage\n",
        "\n",
        "from google.colab import auth\n",
        "\n",
        "PROJECT_ID = \"apps-388723\"\n",
        "auth.authenticate_user(project_id=PROJECT_ID)"
      ],
      "metadata": {
        "id": "qYixqFuF3l_u"
      },
      "execution_count": null,
      "outputs": []
    },
    {
      "cell_type": "markdown",
      "metadata": {
        "id": "VAh-0QsEQqCW"
      },
      "source": [
        "Define the output folders in GD"
      ]
    },
    {
      "cell_type": "code",
      "source": [
        "# Check vector \"file_name\" available in Assets from Raul GEE account\n",
        "print('Vector files within Raul´s PROJECTS directory in GEE Assets \\n')\n",
        "src_folder = \"projects/ee-raul/assets/Projects\"\n",
        "assets = ee.data.listAssets({'parent': src_folder})['assets']\n",
        "\n",
        "# ANSI color codes\n",
        "COLOR_RED = '\\033[91m'\n",
        "COLOR_BLUE = '\\033[94m'\n",
        "COLOR_RESET = '\\033[0m'\n",
        "\n",
        "# Initialize variables\n",
        "prev_prefix = None\n",
        "is_blue = True\n",
        "\n",
        "# Loop through assets and print\n",
        "for asset in assets:\n",
        "    last_element = asset['id'].split(\"/\")[-1]\n",
        "    prefix = last_element[:4]\n",
        "\n",
        "    if prefix != prev_prefix:\n",
        "        print(f\"{COLOR_BLUE}{'_' * len(last_element)}{COLOR_RESET}\")\n",
        "        is_blue = not is_blue\n",
        "    print(f\"{COLOR_BLUE if is_blue else COLOR_RED}{last_element}{COLOR_RESET}\")\n",
        "\n",
        "    prev_prefix = prefix"
      ],
      "metadata": {
        "id": "kruGTukgo5Yk"
      },
      "execution_count": null,
      "outputs": []
    },
    {
      "cell_type": "code",
      "execution_count": null,
      "metadata": {
        "id": "hlO08fmzl_UT"
      },
      "outputs": [],
      "source": [
        "# Define folder names\n",
        "folder_name_root = 'Projects'                   # Do not change it\n",
        "\n",
        "folder_name_project = 'Rosario'             # PROYECTO: ej. SanEnrique,  SanJoseFarms, ConchayToro, VinaMontes\n",
        "folder_name_farm = 'Cerro'                 # FUNDO: ej. QuebradaSeca, ElTriangulo, LaRosa\n",
        "\n",
        "folder_name_product = 'Junior'                  # Do not change it\n",
        "folder_name_specific = '01_Zonal_statistics'    # Do not change it\n",
        "\n",
        "# Insert the vector file name from GEE Assets (files will be exported using this name)\n",
        "file_name = 'Rosario_Cerro'                    # EL NOMBRE DEL SHAPEFILE ALMACENADO EN ASSETS DE GEE de Raul (listado arriba)"
      ]
    },
    {
      "cell_type": "markdown",
      "metadata": {
        "id": "N3S_Na24fcuU"
      },
      "source": [
        "Folder Structure:\n",
        "```\n",
        "Google Drive\n",
        "└── folder_name_root\n",
        "      └── folder_name_project\n",
        "          └── folder_name_farm\n",
        "              └── folder_name_specific\n",
        "                   └── 📈 results..{file_name}...\n",
        "```"
      ]
    },
    {
      "cell_type": "code",
      "execution_count": null,
      "metadata": {
        "id": "yDuCkNTSvaVO"
      },
      "outputs": [],
      "source": [
        "# Check if the folder exists or else create\n",
        "root_path = f'/content/drive/MyDrive/{folder_name_root}/{folder_name_project}'\n",
        "out_path = f'{root_path}/{folder_name_farm}/{folder_name_product}/{folder_name_specific}' # your results will be stored in 'out_path'\n",
        "\n",
        "if not os.path.exists(out_path):\n",
        "  Path(out_path).mkdir(parents=True, exist_ok=True)\n",
        "  print(\"Output directory created successfully. \\n\")\n",
        "  os.chdir(out_path)\n",
        "  print(os.getcwd(),'\\n')  # Print the current working directory\n",
        "\n",
        "else:\n",
        "  print(\"Output directory already exists.\")\n",
        "  os.chdir(out_path)\n",
        "  print(os.getcwd(),'\\n')  # Print the current working directory\n",
        "  display(pd.DataFrame(os.listdir(),columns=['List files']))  # List files and directories in the current directory"
      ]
    },
    {
      "cell_type": "markdown",
      "metadata": {
        "id": "7UggJfhzUljR"
      },
      "source": [
        "## Start processing"
      ]
    },
    {
      "cell_type": "markdown",
      "metadata": {
        "id": "EVQynPWOguqe"
      },
      "source": [
        "### Feature collection"
      ]
    },
    {
      "cell_type": "markdown",
      "metadata": {
        "id": "CyWhAC2gCqdM"
      },
      "source": [
        "Import the features from your Assets"
      ]
    },
    {
      "cell_type": "code",
      "execution_count": null,
      "metadata": {
        "id": "URSl6siofwlk"
      },
      "outputs": [],
      "source": [
        "# Import farm plot boundaries (shapefiles)\n",
        "\n",
        "fc = ee.FeatureCollection(f'projects/apps-388723/assets/{file_name}')\n",
        "\n",
        "print('FC size: ',fc.size().getInfo(),'\\n')\n",
        "\n",
        "# Display the table of attributes for one feature/polygon\n",
        "print('FC attribute table (1st feature): \\n')\n",
        "dic = fc.limit(1).getInfo()['features'][0]['properties']\n",
        "pd.DataFrame(dic.values(),dic.keys()).T"
      ]
    },
    {
      "cell_type": "code",
      "execution_count": null,
      "metadata": {
        "id": "wg19N9PwsQze"
      },
      "outputs": [],
      "source": [
        "# Select an attribute name (column) that contains the ID of polygons\n",
        "ID = 'Name'\n",
        "\n",
        "fc_to_reduction = fc.select([ID],[\"Name\"])\n",
        "\n",
        "fc"
      ]
    },
    {
      "cell_type": "markdown",
      "source": [
        "Export the original vector to DG"
      ],
      "metadata": {
        "id": "L9frLN_TiSfR"
      }
    },
    {
      "cell_type": "code",
      "source": [
        "# Create a folder to export input vector to GDrive\n",
        "folder_vector_specific = f'00_input_vector_{folder_name_farm}'\n",
        "input_vector_path = f'/content/drive/MyDrive/{folder_name_root}/{folder_name_project}/{folder_name_farm}/{folder_vector_specific}'\n",
        "\n",
        "if not os.path.exists(input_vector_path):\n",
        "    Path(input_vector_path).mkdir(parents=True, exist_ok=True)\n",
        "    print(\"Output directory created successfully.\")\n",
        "else:\n",
        "    print(\"Output directory already exists.\")\n",
        "    os.chdir(input_vector_path)\n",
        "    print(os.getcwd(),'\\n')  # Print the current working directory\n",
        "    display(pd.DataFrame(os.listdir(),columns=['List files']))  # List files and directories in the current directory\n",
        "\n",
        "# Check if file_name already exists\n",
        "if f'{file_name}.shp' in os.listdir():\n",
        "    print(f\"\\n A file with the name '{file_name}.shp' already exists in the directory.\")\n",
        "else:\n",
        "    # Proceed with ee_export_vector_to_drive if file exists\n",
        "    print('\\n')\n",
        "    geemap.ee_export_vector_to_drive(fc, description=file_name, folder=folder_vector_specific, fileFormat='SHP')"
      ],
      "metadata": {
        "id": "wxMRVLIP8tCB"
      },
      "execution_count": null,
      "outputs": []
    },
    {
      "cell_type": "markdown",
      "metadata": {
        "id": "XgNEbW7sgzye"
      },
      "source": [
        "### Importing raster data"
      ]
    },
    {
      "cell_type": "markdown",
      "metadata": {
        "id": "Ayj8F4TyCqdN"
      },
      "source": [
        "Importing soil maps at 90m spatial resolution"
      ]
    },
    {
      "cell_type": "code",
      "execution_count": null,
      "metadata": {
        "id": "zR2Lvaw-En2c"
      },
      "outputs": [],
      "source": [
        "# Import soil maps (0-20cm depth) from Latin America and the Caribbean (LAC) region\n",
        "c     = ee.ImageCollection('projects/ee-raulrpoppiel-dsm-lac/assets/DSM-LAC/C_gkg_PredictedImages').mosaic().select(1).rename('C_gkg')\n",
        "cstk  = ee.ImageCollection('projects/ee-raulrpoppiel-dsm-lac2/assets/Cstock_tha_PredictedImages').mosaic().select(1).rename('CsACTtha')\n",
        "clay  = ee.ImageCollection('projects/ee-raulrpoppiel-dsm-lac/assets/DSM-LAC/Clay_gkg_PredictedImages').mosaic().select(1).rename('Clay_gkg')\n",
        "silt  = ee.ImageCollection('projects/ee-raulrpoppiel-dsm-lac/assets/DSM-LAC/Silt_gkg_PredictedImages').mosaic().select(1).rename('Silt_gkg')\n",
        "sand  = ee.ImageCollection('projects/ee-raulrpoppiel-dsm-lac/assets/DSM-LAC/Sand_gkg_PredictedImages').mosaic().select(1).rename('Sand_gkg')\n",
        "bd    = ee.ImageCollection('projects/ee-raulrpoppiel-dsm-lac-3/assets/Density_kgdm3_PredictedImages').mosaic().select(1).rename('BD_kgdm3')\n",
        "th    = ee.ImageCollection('projects/ee-raulrpoppiel-dsm-lac2/assets/Th_15atm_PredictedImages').mosaic().select(1).multiply(100).rename('PAW_perc')\n",
        "cec   = ee.ImageCollection('projects/ee-raulrpoppiel-dsm-lac2/assets/CEC_Ph7_mmolkg_PredictedImages').mosaic().select(1).divide(10).rename('CEC_meq100')\n",
        "ph    = ee.ImageCollection('projects/ee-raulrpoppiel-dsm-lac2/assets/pH_H2O_PredictedImages').mosaic().select(1).rename('pH_water')\n",
        "# p     = ee.ImageCollection('projects/ee-raulrpoppiel-dsm-lac-3/assets/P_mgkg_PredictedImages').mosaic().select(1).rename('P_mgkg')\n",
        "# k     = ee.ImageCollection('projects/ee-raulrpoppiel-dsm-lac-4/assets/K_mmolkg_PredictedImages').mosaic().select(1).multiply(10).rename('K_mgkg')\n",
        "\n",
        "# Import a DEM\n",
        "dem = ee.Image(\"USGS/SRTMGL1_003\").rename('Elev_m')"
      ]
    },
    {
      "cell_type": "markdown",
      "source": [
        "Compute the potencial (maimum) and deficit SOC stock"
      ],
      "metadata": {
        "id": "1FWUvwM-JyLa"
      }
    },
    {
      "cell_type": "code",
      "source": [
        "# ACTUAL\n",
        "# Carbon content actual (stable pool)\n",
        "# Fractions: ~85% Stable pool, retained in the mineral fraction - https://doi.org/10.1016/j.geoderma.2018.07.026\n",
        "#            ~15% Labile pool, retained in aggregates\n",
        "\n",
        "# carbon_actual = ee.Image().expression(\n",
        "# #    '(((0.8966 * SOCtotal) + 0.0773)', # https://doi.org/10.1016/j.geoderma.2023.116549\n",
        "#     '0.8 * SOCtotal',\n",
        "#      {'SOCtotal': c.select('C_gkg')}).rename('c_actual_gkg')\n",
        "\n",
        "# Carbon stock actual (stable pool)\n",
        "carbon_stock_actual = cstk.rename('c_stk_actual_tha')\n",
        "# carbon_stock_actual = ee.Image().expression(\n",
        "#     '(c_actual * BD * SoilThickness_cm) /10', # https://doi.org/10.1016/j.geoderma.2023.116549\n",
        "#      {'c_actual': carbon_actual.select('c_actual_gkg'),'BD': bd.select('BD_kgdm3'),'SoilThickness_cm': ee.Image(20)}).rename('c_stk_actual_tha')\n",
        "\n",
        "\n",
        "\n",
        "# POTENTIAL\n",
        "# Carbon content saturation potential (maximum SOC content)\n",
        "\n",
        "# # Feller and Beare (1997) for tropical soils: https://doi.org/10.1016/S0016-7061(97)00039-6\n",
        "# carbon_potential = ee.Image().expression(\n",
        "#     '0.32 + 0.029 * (Clay + Silt)',\n",
        "#      {'Clay': clay.select('Clay_gkg'),'Silt': silt.select('Silt_gkg')}).rename('c_potential_gkg')\n",
        "\n",
        "# Bayer (2022): https://doi.org/10.1016/j.geoderma.2022.115711\n",
        "carbon_potential = ee.Image().expression(\n",
        "    '0.082 * ((Clay + Silt))',\n",
        "     {'Clay': clay.select('Clay_gkg'),'Silt': silt.select('Silt_gkg')}).rename('c_potential_gkg')\n",
        "\n",
        "\n",
        "\n",
        "# DEFICIT\n",
        "# Carbon content saturation deficit (Δ = potential - actual)\n",
        "# carbon_deficit = ee.Image().expression(\n",
        "#     'carbon_potential - ((0.8966 * SOCtotal) + 0.0773)',\n",
        "#     {'carbon_potential': carbon_potential.select('c_potential'), 'SOCtotal': c.select('C_gkg')}\n",
        "# ).rename('c_deficit')\n",
        "\n",
        "# Carbon stock saturation deficit (Δ = potential - actual)\n",
        "carbon_stock_deficit = ee.Image().expression(\n",
        "    '((Cpot * BD * SoilThickness_cm) /10) - Cstk_actual',\n",
        "    {'Cpot': carbon_potential.select('c_potential_gkg'),'BD': bd.select('BD_kgdm3'),'SoilThickness_cm': ee.Image(20), 'Cstk_actual': carbon_stock_actual.select('c_stk_actual_tha')}\n",
        ").rename('CsDEFtha')\n",
        "\n",
        "# Remap negative values to zero\n",
        "carbon_stock_deficit = carbon_stock_deficit.where(carbon_stock_deficit.lt(0), 0)\n",
        "\n",
        "\n",
        "\n",
        "# POTENTIAL\n",
        "# Carbon stock saturation potential (maximum SOC stock)\n",
        "carbon_stock_potential = carbon_stock_actual.add(carbon_stock_deficit).rename('CsPOTtha')"
      ],
      "metadata": {
        "id": "COQMvsnUH_q2"
      },
      "execution_count": null,
      "outputs": []
    },
    {
      "cell_type": "code",
      "source": [
        "# Select the maps for assessment\n",
        "maps = [c, cstk, clay, silt, sand, bd, th, cec, ph, carbon_stock_potential, carbon_stock_deficit, dem]\n",
        "band_list = ee.Image(maps).bandNames().getInfo()\n",
        "\n",
        "pd.DataFrame(band_list, columns=['Band names'])"
      ],
      "metadata": {
        "id": "-GVbgykEH5oQ"
      },
      "execution_count": null,
      "outputs": []
    },
    {
      "cell_type": "markdown",
      "metadata": {
        "id": "p9-wnu1QK7Dj"
      },
      "source": [
        "### Compute mean values by polygon and export as vector"
      ]
    },
    {
      "cell_type": "code",
      "execution_count": null,
      "metadata": {
        "id": "f3t6avyJhBQe"
      },
      "outputs": [],
      "source": [
        "# Define the statistic\n",
        "# Statistics: \"MEAN\", \"MAXIMUM\", \"MEDIAN\",\"MINIMUM\",\"MODE\",\"STD\",\"MIN_MAX\",\"SUM\",\"VARIANCE\", \"COUNT\"\n",
        "statistics_Type = 'MEAN'\n",
        "\n",
        "# Define static date of compute, for now when the script runs\n",
        "simplified_date = datetime.now().strftime('%Y-%m-%d')\n",
        "\n",
        "# Define the output path to save results\n",
        "global_stats_path = f'{out_path}/{file_name}_zonal_statistics_{statistics_Type}_{simplified_date}'\n",
        "\n",
        "print(global_stats_path)"
      ]
    },
    {
      "cell_type": "code",
      "execution_count": null,
      "metadata": {
        "id": "itoFtxeQtfY4"
      },
      "outputs": [],
      "source": [
        "# Reducing daily climatic values by zone\n",
        "scale = 90.0\n",
        "\n",
        "# Maps to reduce by polygon\n",
        "img = ee.ImageCollection(maps)\n",
        "\n",
        "parameters = {\n",
        "    'in_value_raster': img,\n",
        "    'statistics_type':statistics_Type,\n",
        "    'scale':float(scale), # a high scale avoid missing values\n",
        "    'tile_scale':16.0,\n",
        "    'return_fc':False,\n",
        "    'timeout':3000,\n",
        "    }"
      ]
    },
    {
      "cell_type": "code",
      "execution_count": null,
      "metadata": {
        "id": "8Dyz3A_BdFRV"
      },
      "outputs": [],
      "source": [
        "geemap.zonal_statistics(in_zone_vector=fc_to_reduction,out_file_path=f'{global_stats_path}.shp',**parameters)"
      ]
    },
    {
      "cell_type": "markdown",
      "source": [
        "### Add base columns to csv stat"
      ],
      "metadata": {
        "id": "blj81CdluxD-"
      }
    },
    {
      "cell_type": "code",
      "source": [
        "# Import stats by zone and verify values\n",
        "zonal_stat = gpd.read_file(f'{global_stats_path}.shp', driver='ESRI Shapefile', encoding='latin1') # utf-8\n",
        "zonal_stat.head(1)"
      ],
      "metadata": {
        "id": "85dr02YtVpRt"
      },
      "execution_count": null,
      "outputs": []
    },
    {
      "cell_type": "code",
      "source": [
        "# Remove the last 3 characters from each string in list_of_headers\n",
        "list_of_headers = [header[:-2] for header in band_list]\n",
        "\n",
        "# Rename headers\n",
        "for header in list_of_headers:\n",
        "    matching_columns = zonal_stat.columns[zonal_stat.columns.str.contains(header)]\n",
        "    for col in matching_columns:\n",
        "        new_header = col.split('_', 1)[1]  # Split at first '_' and take the second part\n",
        "        zonal_stat.rename(columns={col: new_header}, inplace=True)"
      ],
      "metadata": {
        "id": "fgHl3O2ZoQVn"
      },
      "execution_count": null,
      "outputs": []
    },
    {
      "cell_type": "code",
      "source": [
        "list(zonal_stat.columns)"
      ],
      "metadata": {
        "id": "zAwh0CWiqoeg"
      },
      "execution_count": null,
      "outputs": []
    },
    {
      "cell_type": "markdown",
      "source": [
        "Round to two decimal places"
      ],
      "metadata": {
        "id": "EETcHoSXuIQx"
      }
    },
    {
      "cell_type": "code",
      "source": [
        "def round_it(x):\n",
        "  return round(x, 2) if x.dtype == \"float64\" else x\n",
        "\n",
        "zonal_stat = zonal_stat.apply(round_it)\n",
        "\n",
        "zonal_stat.head(2)"
      ],
      "metadata": {
        "id": "e_sXn461coWa"
      },
      "execution_count": null,
      "outputs": []
    },
    {
      "cell_type": "code",
      "source": [
        "# Create a column with predio/fundo name\n",
        "zonal_stat['predio'] = str(folder_name_farm)\n",
        "\n",
        "# Reproject the GeoDataFrame to EPSG:6933 (Equal Area Cylindrical)\n",
        "zonal_stat_m = zonal_stat.to_crs(epsg=6933)\n",
        "\n",
        "# Calculate area directly in hectares and round to two decimal places\n",
        "zonal_stat['area_ha'] = (zonal_stat_m['geometry'].area / 10000).round(2)\n",
        "\n",
        "zonal_stat.head(2)"
      ],
      "metadata": {
        "id": "oOJVnVkEvDLj"
      },
      "execution_count": null,
      "outputs": []
    },
    {
      "cell_type": "markdown",
      "source": [
        "### Export to GDrive"
      ],
      "metadata": {
        "id": "VJF-cpHrcjRA"
      }
    },
    {
      "cell_type": "code",
      "source": [
        "# Save\n",
        "zonal_stat.to_file(global_stats_path+'.shp', driver='ESRI Shapefile', encoding='utf-8')\n",
        "zonal_stat.to_file(global_stats_path+'.geojson', driver='GeoJSON', encoding='utf-8')\n",
        "zonal_stat.drop(columns='geometry').to_csv(global_stats_path+'.csv', encoding='utf-8', index=False)\n",
        "\n",
        "print('\\n',f'Files sucessfully exported to {global_stats_path}')"
      ],
      "metadata": {
        "id": "vTqa38DZtiO0"
      },
      "execution_count": null,
      "outputs": []
    },
    {
      "cell_type": "markdown",
      "source": [
        "### Export to GCS"
      ],
      "metadata": {
        "id": "02WgwFuamjbA"
      }
    },
    {
      "cell_type": "code",
      "source": [
        "from google.cloud import storage\n",
        "bucket_name = \"neutralfarming-test-files\"\n",
        "\n",
        "def camel_to_snake(camel_case_string):\n",
        "   snake_case_string = \"\"\n",
        "   for i, c in enumerate(camel_case_string):\n",
        "      if i == 0:\n",
        "         snake_case_string += c.lower()\n",
        "      elif c.isupper():\n",
        "         snake_case_string += \"_\" + c.lower()\n",
        "      else:\n",
        "         snake_case_string += c\n",
        "\n",
        "   return snake_case_string\n",
        "\n",
        "def write_to_gcs(bucket_name, blob_name):\n",
        "    \"\"\"Write and read a blob from GCS using file-like IO\"\"\"\n",
        "\n",
        "    storage_client = storage.Client()\n",
        "    bucket = storage_client.bucket(bucket_name)\n",
        "    blob = bucket.blob(blob_name)\n",
        "\n",
        "    with io.BytesIO() as buf:\n",
        "      zonal_stat.to_file(buf, driver='GeoJSON')\n",
        "      byte_str = buf.getvalue()\n",
        "      str_buf = byte_str.decode('UTF-8')\n",
        "\n",
        "      with blob.open(\"w\", content_type='application/json') as f:\n",
        "          f.write(str_buf)\n",
        "\n",
        "    blob.make_public()\n",
        "\n",
        "write_to_gcs(bucket_name, f'{camel_to_snake(folder_name_project)}/{camel_to_snake(folder_name_farm)}/{file_name}_zonal_statistics_{statistics_Type}_{simplified_date}.geojson')"
      ],
      "metadata": {
        "id": "Uo3QDedxrTIm"
      },
      "execution_count": null,
      "outputs": []
    }
  ],
  "metadata": {
    "colab": {
      "provenance": [],
      "include_colab_link": true
    },
    "kernelspec": {
      "display_name": "Python 3",
      "language": "python",
      "name": "python3"
    },
    "language_info": {
      "codemirror_mode": {
        "name": "ipython",
        "version": 3
      },
      "file_extension": ".py",
      "mimetype": "text/x-python",
      "name": "python",
      "nbconvert_exporter": "python",
      "pygments_lexer": "ipython3",
      "version": "3.9.4"
    }
  },
  "nbformat": 4,
  "nbformat_minor": 0
}